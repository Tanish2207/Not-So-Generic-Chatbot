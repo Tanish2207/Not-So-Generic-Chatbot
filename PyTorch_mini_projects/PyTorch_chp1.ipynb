{
  "nbformat": 4,
  "nbformat_minor": 0,
  "metadata": {
    "colab": {
      "provenance": []
    },
    "kernelspec": {
      "name": "python3",
      "display_name": "Python 3"
    },
    "language_info": {
      "name": "python"
    }
  },
  "cells": [
    {
      "cell_type": "code",
      "execution_count": null,
      "metadata": {
        "id": "j_RvI-t7QPVc"
      },
      "outputs": [],
      "source": [
        "import torch\n",
        "from torch import nn\n",
        "import matplotlib.pyplot as plt"
      ]
    },
    {
      "cell_type": "code",
      "source": [
        "# device-agnostic code\n",
        "device = \"cuda\" if torch.cuda.is_available() else \"cpu\"\n",
        "print(\"Current device\", device)"
      ],
      "metadata": {
        "id": "MT8OkjtIQ3I9",
        "colab": {
          "base_uri": "https://localhost:8080/"
        },
        "outputId": "50e39c22-59be-4586-91d6-947758d3524b"
      },
      "execution_count": null,
      "outputs": [
        {
          "output_type": "stream",
          "name": "stdout",
          "text": [
            "Current device cpu\n"
          ]
        }
      ]
    },
    {
      "cell_type": "markdown",
      "source": [
        "# Data"
      ],
      "metadata": {
        "id": "yhzt_l_r8md8"
      }
    },
    {
      "cell_type": "code",
      "source": [
        "m = -3.0\n",
        "c = 5.0\n",
        "\n",
        "start = 0\n",
        "end = 1\n",
        "step = 0.02\n",
        "\n",
        "X = torch.arange(start, end, step).unsqueeze(dim=1)\n",
        "y = m * X + c"
      ],
      "metadata": {
        "id": "GbEMsj5A9tRD"
      },
      "execution_count": null,
      "outputs": []
    },
    {
      "cell_type": "code",
      "source": [
        "# Split Data\n",
        "from sklearn.model_selection import train_test_split\n",
        "X_train, X_test, y_train, y_test = train_test_split(X, y, test_size=0.2, random_state=42)"
      ],
      "metadata": {
        "id": "zUshNGkUCyEW"
      },
      "execution_count": null,
      "outputs": []
    },
    {
      "cell_type": "code",
      "source": [
        "plt.scatter(X_train, y_train, c='b', s=4, label=\"Training Data\")\n",
        "plt.scatter(X_test, y_test, c='r', s=4, label=\"Test Data\")\n",
        "plt.legend(prop={'size': 10})"
      ],
      "metadata": {
        "colab": {
          "base_uri": "https://localhost:8080/",
          "height": 447
        },
        "id": "_MacOmj_DbuB",
        "outputId": "43c2b4d8-acf3-429b-90ec-8808996bdc2e"
      },
      "execution_count": null,
      "outputs": [
        {
          "output_type": "execute_result",
          "data": {
            "text/plain": [
              "<matplotlib.legend.Legend at 0x7d58fb6a7bb0>"
            ]
          },
          "metadata": {},
          "execution_count": 118
        },
        {
          "output_type": "display_data",
          "data": {
            "text/plain": [
              "<Figure size 640x480 with 1 Axes>"
            ],
            "image/png": "[encoded data removed]"
          },
          "metadata": {}
        }
      ]
    },
    {
      "cell_type": "markdown",
      "source": [
        "# Building Linear Model"
      ],
      "metadata": {
        "id": "WxybevXCT911"
      }
    },
    {
      "cell_type": "code",
      "source": [
        "class LinearRegModel(nn.Module):\n",
        "  def __init__(self):\n",
        "    super().__init__()\n",
        "    # Here we use nn.Linear() for creating the model params\n",
        "    # o/w we would have initialized manually like self.weights = nn.Parameter(torch.randn) and self.bias ...\n",
        "    self.linear_layer = nn.Linear(in_features=1, out_features=1)\n",
        "    # also called linear transform, probing layer, fully connected layer, dense layer\n",
        "\n",
        "  # Stil we have to overwrite the forward() method\n",
        "  def forward(self, x:torch.Tensor) -> torch.Tensor:\n",
        "    return self.linear_layer(x)\n",
        "\n",
        "torch.manual_seed(42)\n",
        "my_model = LinearRegModel()\n",
        "# my_model.state_dict()"
      ],
      "metadata": {
        "id": "bNqZGrdGUBJG"
      },
      "execution_count": null,
      "outputs": []
    },
    {
      "cell_type": "code",
      "source": [
        "# params = my_model.parameters()\n",
        "# weights = next(params)\n",
        "# weights.device\n",
        "my_model.to(device)\n",
        "next(my_model.parameters()).device"
      ],
      "metadata": {
        "colab": {
          "base_uri": "https://localhost:8080/"
        },
        "id": "OW6hS8mdYd7X",
        "outputId": "51ace305-6614-4b75-df95-5ec958da8407"
      },
      "execution_count": null,
      "outputs": [
        {
          "output_type": "execute_result",
          "data": {
            "text/plain": [
              "device(type='cpu')"
            ]
          },
          "metadata": {},
          "execution_count": 120
        }
      ]
    },
    {
      "cell_type": "markdown",
      "source": [
        ".parameters() returns an iterator over all the parameters (typically weights and biases) of the model.\n",
        "We can check the device of each separate tensor"
      ],
      "metadata": {
        "id": "FB7xYdu4aDnU"
      }
    },
    {
      "cell_type": "markdown",
      "source": [
        "# Training Model"
      ],
      "metadata": {
        "id": "uanz5J6ka-tE"
      }
    },
    {
      "cell_type": "markdown",
      "source": [
        "# Steps for Model training\n",
        "1. Loss fn\n",
        "2. Optimizer\n",
        "3. Training loop\n",
        "4. Testing loop"
      ],
      "metadata": {
        "id": "PM7KwhmXbBDf"
      }
    },
    {
      "cell_type": "code",
      "source": [
        "# Loss func\n",
        "loss_fn = nn.L1Loss() # = MAE\n",
        "\n",
        "# Setup Optimizer\n",
        "optimizer = torch.optim.SGD(params = my_model.parameters(), lr=0.1)"
      ],
      "metadata": {
        "id": "yDc5fPowhbK-"
      },
      "execution_count": null,
      "outputs": []
    },
    {
      "cell_type": "code",
      "source": [
        "# Training Loop\n",
        "torch.manual_seed(42)\n",
        "\n",
        "epochs = 400\n",
        "\n",
        "for epoch in range(epochs):\n",
        "  my_model.train()\n",
        "\n",
        "  # 1. Forward pass\n",
        "  y_pred = my_model(X_train)\n",
        "\n",
        "  # 2. Loss fn\n",
        "  loss = loss_fn(y_pred, y_train)\n",
        "\n",
        "  # 3. Optimizer zero grad\n",
        "  optimizer.zero_grad()\n",
        "\n",
        "  # 4. Backprop\n",
        "  loss.backward()\n",
        "\n",
        "  # 5. optimizer step\n",
        "  optimizer.step()\n",
        "\n",
        "  ### Testing loop\n",
        "  my_model.eval()\n",
        "  with torch.inference_mode():\n",
        "    test_pred = my_model(X_test)\n",
        "    test_loss = loss_fn(test_pred, y_test)\n",
        "\n",
        "    # Print whats happening\n",
        "    if epoch % 10 == 0:\n",
        "      print(f\"Epoch: {epoch} | Train Loss: {loss} | Test Loss: {test_loss}\")\n"
      ],
      "metadata": {
        "colab": {
          "base_uri": "https://localhost:8080/"
        },
        "id": "wZW1vYMui0sq",
        "outputId": "78030524-2924-454e-e55f-8c40bef76e74"
      },
      "execution_count": null,
      "outputs": [
        {
          "output_type": "stream",
          "name": "stdout",
          "text": [
            "Epoch: 0 | Train Loss: 2.4175992012023926 | Test Loss: 1.8290719985961914\n",
            "Epoch: 10 | Train Loss: 1.5028712749481201 | Test Loss: 1.0418494939804077\n",
            "Epoch: 20 | Train Loss: 1.2547035217285156 | Test Loss: 0.8549613952636719\n",
            "Epoch: 30 | Train Loss: 1.1524895429611206 | Test Loss: 0.7682753205299377\n",
            "Epoch: 40 | Train Loss: 1.0760259628295898 | Test Loss: 0.7348898649215698\n",
            "Epoch: 50 | Train Loss: 1.0146431922912598 | Test Loss: 0.7017453908920288\n",
            "Epoch: 60 | Train Loss: 0.9569867849349976 | Test Loss: 0.6664954423904419\n",
            "Epoch: 70 | Train Loss: 0.9011909365653992 | Test Loss: 0.6271845102310181\n",
            "Epoch: 80 | Train Loss: 0.8453389406204224 | Test Loss: 0.5878738164901733\n",
            "Epoch: 90 | Train Loss: 0.7895660400390625 | Test Loss: 0.5490705370903015\n",
            "Epoch: 100 | Train Loss: 0.7337141036987305 | Test Loss: 0.509759783744812\n",
            "Epoch: 110 | Train Loss: 0.6779412031173706 | Test Loss: 0.47095656394958496\n",
            "Epoch: 120 | Train Loss: 0.6220892667770386 | Test Loss: 0.43164578080177307\n",
            "Epoch: 130 | Train Loss: 0.5663115978240967 | Test Loss: 0.3928426206111908\n",
            "Epoch: 140 | Train Loss: 0.5104644894599915 | Test Loss: 0.3535318076610565\n",
            "Epoch: 150 | Train Loss: 0.45465508103370667 | Test Loss: 0.3147285580635071\n",
            "Epoch: 160 | Train Loss: 0.39883941411972046 | Test Loss: 0.2754177153110504\n",
            "Epoch: 170 | Train Loss: 0.3429983854293823 | Test Loss: 0.23661451041698456\n",
            "Epoch: 180 | Train Loss: 0.2872143089771271 | Test Loss: 0.19730357825756073\n",
            "Epoch: 190 | Train Loss: 0.23136210441589355 | Test Loss: 0.15799275040626526\n",
            "Epoch: 200 | Train Loss: 0.17558914422988892 | Test Loss: 0.1191895455121994\n",
            "Epoch: 210 | Train Loss: 0.11973700672388077 | Test Loss: 0.07987866550683975\n",
            "Epoch: 220 | Train Loss: 0.06396405398845673 | Test Loss: 0.04107549041509628\n",
            "Epoch: 230 | Train Loss: 0.013139414601027966 | Test Loss: 0.07445287704467773\n",
            "Epoch: 240 | Train Loss: 0.04814884811639786 | Test Loss: 0.07445287704467773\n",
            "Epoch: 250 | Train Loss: 0.04814884811639786 | Test Loss: 0.07445287704467773\n",
            "Epoch: 260 | Train Loss: 0.04814884811639786 | Test Loss: 0.07445287704467773\n",
            "Epoch: 270 | Train Loss: 0.04814884811639786 | Test Loss: 0.07445287704467773\n",
            "Epoch: 280 | Train Loss: 0.04814884811639786 | Test Loss: 0.07445287704467773\n",
            "Epoch: 290 | Train Loss: 0.04814884811639786 | Test Loss: 0.07445287704467773\n",
            "Epoch: 300 | Train Loss: 0.04814884811639786 | Test Loss: 0.07445287704467773\n",
            "Epoch: 310 | Train Loss: 0.04814884811639786 | Test Loss: 0.07445287704467773\n",
            "Epoch: 320 | Train Loss: 0.04814884811639786 | Test Loss: 0.07445287704467773\n",
            "Epoch: 330 | Train Loss: 0.04814884811639786 | Test Loss: 0.07445287704467773\n",
            "Epoch: 340 | Train Loss: 0.04814884811639786 | Test Loss: 0.07445287704467773\n",
            "Epoch: 350 | Train Loss: 0.04814884811639786 | Test Loss: 0.07445287704467773\n",
            "Epoch: 360 | Train Loss: 0.04814884811639786 | Test Loss: 0.07445287704467773\n",
            "Epoch: 370 | Train Loss: 0.04814884811639786 | Test Loss: 0.07445287704467773\n",
            "Epoch: 380 | Train Loss: 0.04814884811639786 | Test Loss: 0.07445287704467773\n",
            "Epoch: 390 | Train Loss: 0.04814884811639786 | Test Loss: 0.07445287704467773\n"
          ]
        }
      ]
    },
    {
      "cell_type": "code",
      "source": [
        "my_model.state_dict()"
      ],
      "metadata": {
        "colab": {
          "base_uri": "https://localhost:8080/"
        },
        "id": "6-zKIWnbr6FU",
        "outputId": "a4ba9617-a0d1-4b98-acee-deb04fe075fa"
      },
      "execution_count": null,
      "outputs": [
        {
          "output_type": "execute_result",
          "data": {
            "text/plain": [
              "OrderedDict([('linear_layer.weight', tensor([[-2.9611]])),\n",
              "             ('linear_layer.bias', tensor([5.0300]))])"
            ]
          },
          "metadata": {},
          "execution_count": 123
        }
      ]
    },
    {
      "cell_type": "code",
      "source": [
        "m, c"
      ],
      "metadata": {
        "colab": {
          "base_uri": "https://localhost:8080/"
        },
        "id": "LlUsNnaNr9U1",
        "outputId": "55d6fea1-d143-4714-f879-408d7d846bf4"
      },
      "execution_count": null,
      "outputs": [
        {
          "output_type": "execute_result",
          "data": {
            "text/plain": [
              "(-3.0, 5.0)"
            ]
          },
          "metadata": {},
          "execution_count": 124
        }
      ]
    },
    {
      "cell_type": "code",
      "source": [
        "my_model.eval()\n",
        "with torch.inference_mode():\n",
        "  y_preds = my_model(X_test)\n",
        "  plt.scatter(X_train, y_train, c='b', s=4, label=\"Training Data\")\n",
        "  plt.scatter(X_test, y_test, c='r', s=4, label=\"Test Data\")\n",
        "  plt.scatter(X_test, y_preds, c='g', s=4, label=\"Predicted Data\")\n",
        "  plt.legend(prop={'size': 10})"
      ],
      "metadata": {
        "colab": {
          "base_uri": "https://localhost:8080/",
          "height": 430
        },
        "id": "KYDea0kKs1MA",
        "outputId": "ddae80f6-582f-4130-a758-2570f40efeb5"
      },
      "execution_count": null,
      "outputs": [
        {
          "output_type": "display_data",
          "data": {
            "text/plain": [
              "<Figure size 640x480 with 1 Axes>"
            ],
            "image/png": "[encoded data removed]"
          },
          "metadata": {}
        }
      ]
    },
    {
      "cell_type": "markdown",
      "source": [
        "# Save and Load the model"
      ],
      "metadata": {
        "id": "15lm5c8UBMUP"
      }
    },
    {
      "cell_type": "code",
      "source": [
        "from pathlib import Path\n",
        "\n",
        "MODEL_PATH = Path(\"models\")\n",
        "MODEL_PATH.mkdir(parents=True, exist_ok=True)\n",
        "\n",
        "MODEL_NAME = \"my_model.pth\"\n",
        "MODEL_SAVE_PATH = MODEL_PATH / MODEL_NAME\n",
        "\n",
        "print(f\"Model saved to: {MODEL_SAVE_PATH}\")\n",
        "torch.save(obj=my_model.state_dict(), f=MODEL_SAVE_PATH)"
      ],
      "metadata": {
        "colab": {
          "base_uri": "https://localhost:8080/"
        },
        "id": "8NnwlusdBQmM",
        "outputId": "9ebfeb8e-d15e-4a14-ebe4-6bf6ba11e64c"
      },
      "execution_count": null,
      "outputs": [
        {
          "output_type": "stream",
          "name": "stdout",
          "text": [
            "Model saved to: models/my_model.pth\n"
          ]
        }
      ]
    },
    {
      "cell_type": "code",
      "source": [
        "# Load model\n",
        "loaded_model = LinearRegModel()\n",
        "loaded_model.load_state_dict(torch.load(MODEL_SAVE_PATH))"
      ],
      "metadata": {
        "colab": {
          "base_uri": "https://localhost:8080/"
        },
        "id": "8YJuyoAuCf1p",
        "outputId": "18b933e5-1988-480d-f81c-c2bce3b8d8b4"
      },
      "execution_count": null,
      "outputs": [
        {
          "output_type": "execute_result",
          "data": {
            "text/plain": [
              "<All keys matched successfully>"
            ]
          },
          "metadata": {},
          "execution_count": 130
        }
      ]
    }
  ]
}