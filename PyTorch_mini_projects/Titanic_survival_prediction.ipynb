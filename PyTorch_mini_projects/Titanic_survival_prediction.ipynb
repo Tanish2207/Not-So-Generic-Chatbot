{
  "nbformat": 4,
  "nbformat_minor": 0,
  "metadata": {
    "colab": {
      "provenance": []
    },
    "kernelspec": {
      "name": "python3",
      "display_name": "Python 3"
    },
    "language_info": {
      "name": "python"
    }
  },
  "cells": [
    {
      "cell_type": "code",
      "execution_count": 193,
      "metadata": {
        "id": "ZcraFNau6206"
      },
      "outputs": [],
      "source": [
        "import numpy as np\n",
        "import pandas as pd\n",
        "import torch\n",
        "from torch import nn"
      ]
    },
    {
      "cell_type": "code",
      "source": [
        "df = pd.read_csv(\"train.csv\")\n",
        "mean_age = df['Age'].mean()\n",
        "df['Age'].fillna(value=mean_age, inplace=True)\n",
        "df['Sex'] = df['Sex'].apply(lambda x: 0 if x == 'male' else 1)\n",
        "# df"
      ],
      "metadata": {
        "id": "nSYauSWi_Q2v"
      },
      "execution_count": 194,
      "outputs": []
    },
    {
      "cell_type": "code",
      "source": [
        "y = df['Survived']\n",
        "X = df.drop(columns='Survived')\n",
        "X.shape[1]\n",
        "\n",
        "numpy_array_X = df[['Pclass', 'Sex', 'Age', 'SibSp', 'Parch', 'Fare']].values\n",
        "X = torch.from_numpy(numpy_array_X).type(torch.float)\n",
        "y = torch.from_numpy(y.values).type(torch.float)"
      ],
      "metadata": {
        "id": "bCdR4ybGQeKL"
      },
      "execution_count": 195,
      "outputs": []
    },
    {
      "cell_type": "code",
      "source": [
        "from sklearn.model_selection import train_test_split\n",
        "X_train, X_test, y_train , y_test = train_test_split(X, y, random_state=42, test_size=0.2)"
      ],
      "metadata": {
        "id": "SG9lemhqCkBq"
      },
      "execution_count": 196,
      "outputs": []
    },
    {
      "cell_type": "code",
      "source": [
        "device = \"cuda\" if torch.cuda.is_available() else \"cpu\"\n",
        "print(\"Current device: \", device)"
      ],
      "metadata": {
        "id": "b43IdZ9SQ-RL",
        "colab": {
          "base_uri": "https://localhost:8080/"
        },
        "outputId": "808d5df5-a492-4017-9958-69d759361f78"
      },
      "execution_count": 197,
      "outputs": [
        {
          "output_type": "stream",
          "name": "stdout",
          "text": [
            "Current device:  cpu\n"
          ]
        }
      ]
    },
    {
      "cell_type": "code",
      "source": [
        "class TitanicModel(nn.Module):\n",
        "  def __init__(self):\n",
        "    super().__init__()\n",
        "    self.layer1 = nn.Linear(in_features=X.shape[1], out_features=64)\n",
        "    self.layer2 = nn.Linear(in_features=64, out_features=128)\n",
        "    self.layer3 = nn.Linear(in_features=128, out_features=16)\n",
        "    self.layer4 = nn.Linear(in_features=16, out_features=1)\n",
        "    self.relu = nn.ReLU()\n",
        "  def forward(self, x):\n",
        "    return self.layer4(self.relu(self.layer3(self.relu(self.layer2(self.relu(self.layer1(x)))))))\n",
        "\n",
        "model_0 = TitanicModel().to(device)"
      ],
      "metadata": {
        "id": "HCcqfp9mRNUJ"
      },
      "execution_count": 198,
      "outputs": []
    },
    {
      "cell_type": "code",
      "source": [
        "len(model_0(X_train))"
      ],
      "metadata": {
        "id": "hfMknTJFfjfy",
        "colab": {
          "base_uri": "https://localhost:8080/"
        },
        "outputId": "453a0c90-fbce-4375-8838-53e5dc700ff5"
      },
      "execution_count": 199,
      "outputs": [
        {
          "output_type": "execute_result",
          "data": {
            "text/plain": [
              "712"
            ]
          },
          "metadata": {},
          "execution_count": 199
        }
      ]
    },
    {
      "cell_type": "code",
      "source": [
        "loss_fn = nn.BCEWithLogitsLoss()\n",
        "\n",
        "optimizer = torch.optim.SGD(params=model_0.parameters(), lr=0.01)"
      ],
      "metadata": {
        "id": "yRQyA5QJnVqk"
      },
      "execution_count": 200,
      "outputs": []
    },
    {
      "cell_type": "code",
      "source": [
        "# Training Loop\n",
        "\n",
        "torch.manual_seed(41)\n",
        "epochs = 10000\n",
        "\n",
        "X_train, y_train = X_train.to(device), y_train.to(device)\n",
        "X_test, y_test = X_test.to(device), y_test.to(device)\n",
        "\n",
        "for epoch in range(epochs):\n",
        "  model_0.train()\n",
        "\n",
        "  # Forward pass\n",
        "  y_logits = model_0(X_train).squeeze()\n",
        "  y_pred = torch.round(torch.sigmoid(y_logits))\n",
        "\n",
        "  # Calc loss\n",
        "  loss = loss_fn(y_logits, y_train)\n",
        "\n",
        "  # optimizer zero grad\n",
        "  optimizer.zero_grad()\n",
        "\n",
        "  # backprop\n",
        "  loss.backward()\n",
        "\n",
        "  # optimizer step gradient descent\n",
        "  optimizer.step()\n",
        "\n",
        "  # Testing\n",
        "  model_0.eval()\n",
        "  with torch.inference_mode():\n",
        "    # Forward pass\n",
        "    test_logits = model_0(X_test).squeeze()\n",
        "    test_pred = torch.round(torch.sigmoid(test_logits))\n",
        "\n",
        "    # Loss\n",
        "    test_loss = loss_fn(test_logits, y_test)\n",
        "\n",
        "    if epoch % 1000 == 0:\n",
        "      print(f\"Epoch: {epoch} | Loss: {loss:.4f} | Test Loss: {test_loss:.4f}\")"
      ],
      "metadata": {
        "id": "n-A9LLFACVRk",
        "colab": {
          "base_uri": "https://localhost:8080/"
        },
        "outputId": "e4d61c10-1a11-48ae-820e-d12ef27b1b2a"
      },
      "execution_count": 201,
      "outputs": [
        {
          "output_type": "stream",
          "name": "stdout",
          "text": [
            "Epoch: 0 | Loss: 0.8268 | Test Loss: 0.6334\n",
            "Epoch: 1000 | Loss: 0.5784 | Test Loss: 0.5454\n",
            "Epoch: 2000 | Loss: 0.5476 | Test Loss: 0.5285\n",
            "Epoch: 3000 | Loss: 0.5187 | Test Loss: 0.5065\n",
            "Epoch: 4000 | Loss: 0.5000 | Test Loss: 0.4968\n",
            "Epoch: 5000 | Loss: 0.4829 | Test Loss: 0.4886\n",
            "Epoch: 6000 | Loss: 0.4483 | Test Loss: 0.4620\n",
            "Epoch: 7000 | Loss: 0.4461 | Test Loss: 0.4649\n",
            "Epoch: 8000 | Loss: 0.4376 | Test Loss: 0.4627\n",
            "Epoch: 9000 | Loss: 0.4217 | Test Loss: 0.4463\n"
          ]
        }
      ]
    }
  ]
}