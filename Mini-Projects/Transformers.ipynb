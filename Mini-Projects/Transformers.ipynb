{
  "nbformat": 4,
  "nbformat_minor": 0,
  "metadata": {
    "colab": {
      "provenance": [],
      "gpuType": "T4"
    },
    "kernelspec": {
      "name": "python3",
      "display_name": "Python 3"
    },
    "language_info": {
      "name": "python"
    },
    "accelerator": "GPU"
  },
  "cells": [
    {
      "cell_type": "code",
      "source": [
        "!pip install transformers datasets torch torchtext\n",
        "from IPython.display import clear_output\n",
        "clear_output()"
      ],
      "metadata": {
        "id": "REjLctLmtOHX"
      },
      "execution_count": null,
      "outputs": []
    },
    {
      "cell_type": "code",
      "source": [
        "import torch.nn as nn\n",
        "import torch\n",
        "import torch.nn.functional as F\n",
        "import math,copy,re\n",
        "import warnings\n",
        "import pandas as pd\n",
        "import numpy as np\n",
        "import seaborn as sns\n",
        "import matplotlib.pyplot as plt"
      ],
      "metadata": {
        "id": "36iIQCHTk40E"
      },
      "execution_count": null,
      "outputs": []
    },
    {
      "cell_type": "markdown",
      "source": [
        "## **Create Word Embeddings**"
      ],
      "metadata": {
        "id": "gaY0Fjl5lM4U"
      }
    },
    {
      "cell_type": "code",
      "source": [
        "class Embedding(nn.Module):\n",
        "  def __init__(self, vocab_size, embed_dim):\n",
        "    super(Embedding, self).__init__()\n",
        "    self.embed = nn.Embedding(vocab_size, embed_dim)\n",
        "  def forward(self, x):\n",
        "    out = self.embed(x)\n",
        "    return out"
      ],
      "metadata": {
        "id": "A-YrVL0JlLSD"
      },
      "execution_count": null,
      "outputs": []
    },
    {
      "cell_type": "markdown",
      "source": [
        "## **Positional Encoding**"
      ],
      "metadata": {
        "id": "-denSd-nmX99"
      }
    },
    {
      "cell_type": "code",
      "source": [
        "class PositionalEncoding(nn.Module):\n",
        "    def __init__(self, max_seq_len, embed_model_dim):\n",
        "        super(PositionalEncoding, self).__init__()\n",
        "        self.embed_dim = embed_model_dim\n",
        "        pe = torch.zeros(max_seq_len, self.embed_dim)\n",
        "        for pos in range(max_seq_len):\n",
        "            for i in range(0, self.embed_dim, 2):\n",
        "                pe[pos, i] = math.sin(pos / (10000 ** ((2 * i) / self.embed_dim)))\n",
        "                pe[pos, i + 1] = math.cos(pos / (10000 ** ((2 * (i + 1)) / self.embed_dim)))\n",
        "        pe = pe.unsqueeze(0)\n",
        "        self.register_buffer('pe', pe)\n",
        "\n",
        "    def forward(self, x):\n",
        "        x = x * math.sqrt(self.embed_dim)\n",
        "        seq_len = x.size(1)\n",
        "        x = x + torch.autograd.Variable(self.pe[:, :seq_len], requires_grad=False)\n",
        "        return x"
      ],
      "metadata": {
        "id": "efC5TFVVmdwe"
      },
      "execution_count": null,
      "outputs": []
    },
    {
      "cell_type": "markdown",
      "source": [
        "## **Layer Normalization**"
      ],
      "metadata": {
        "id": "Q8XX-ijsoIkb"
      }
    },
    {
      "cell_type": "code",
      "source": [
        "class LayerNormalization(torch.nn.Module):\n",
        "      def __init__(self, eps: float = 10**-6) -> None:\n",
        "        super().__init__()\n",
        "        self.eps = eps\n",
        "        self.alpha = torch.nn.Parameter(torch.ones(1))\n",
        "        self.beta = torch.nn.Parameter(torch.zeros(1))\n",
        "\n",
        "      def forward(self, x):\n",
        "            mean = x.mean(-1, keepdim=True)\n",
        "            std = x.std(-1, keepdim=True)\n",
        "            return self.alpha * (x - mean) / (std + self.eps)\n"
      ],
      "metadata": {
        "id": "ODvwHD-3oM_s"
      },
      "execution_count": null,
      "outputs": []
    },
    {
      "cell_type": "markdown",
      "source": [
        "### **FeedForward Block**"
      ],
      "metadata": {
        "id": "S8MDqoR7BOJs"
      }
    },
    {
      "cell_type": "code",
      "source": [
        "class FeedForwardBlock(nn.Module):\n",
        "    def __init__(self, d_model: int, d_ff: int, dropout: float):\n",
        "        super(FeedForwardBlock, self).__init__()\n",
        "        self.linear_1 = nn.Linear(d_model, d_ff)\n",
        "        self.dropout = nn.Dropout(dropout)\n",
        "        self.linear_2 = nn.Linear(d_ff, d_model)\n",
        "\n",
        "    def forward(self, x):\n",
        "        return self.linear_2(self.dropout(torch.relu(self.linear_1(x))))"
      ],
      "metadata": {
        "id": "FdTmHcbuBSZm"
      },
      "execution_count": null,
      "outputs": []
    },
    {
      "cell_type": "markdown",
      "source": [
        "### **MultiHead Attention**"
      ],
      "metadata": {
        "id": "Ta8lmbRSBh-r"
      }
    },
    {
      "cell_type": "code",
      "source": [
        "class MultiHeadAttentionBlock(nn.Module):\n",
        "    def __init__(self, d_model: int, h: int, dropout: float):\n",
        "        super(MultiHeadAttentionBlock, self).__init__()\n",
        "        self.d_model = d_model\n",
        "        self.h = h\n",
        "        assert d_model % h == 0, \"d_model must be divisible by h\"\n",
        "        self.d_k = d_model // h\n",
        "\n",
        "        self.w_q = nn.Linear(d_model, d_model)\n",
        "        self.w_k = nn.Linear(d_model, d_model)\n",
        "        self.w_v = nn.Linear(d_model, d_model)\n",
        "        self.w_o = nn.Linear(d_model, d_model)\n",
        "        self.dropout = nn.Dropout(dropout)\n",
        "\n",
        "    @staticmethod\n",
        "    def attention(query, key, value, mask, dropout):\n",
        "        d_k = query.size(-1)\n",
        "        attention_scores = torch.matmul(query, key.transpose(-2, -1)) / math.sqrt(d_k)\n",
        "        if mask is not None:\n",
        "            attention_scores = attention_scores.masked_fill(mask == 0, -1e9)\n",
        "        attention_scores = torch.nn.functional.softmax(attention_scores, dim=-1)\n",
        "\n",
        "        if dropout is not None:\n",
        "            attention_scores = dropout(attention_scores)\n",
        "\n",
        "        return torch.matmul(attention_scores, value), attention_scores\n",
        "\n",
        "    def forward(self, q, k, v, mask=None):\n",
        "        batch_size = q.size(0)\n",
        "        query = self.w_q(q).view(batch_size, -1, self.h, self.d_k).transpose(1, 2)\n",
        "        key = self.w_k(k).view(batch_size, -1, self.h, self.d_k).transpose(1, 2)\n",
        "        value = self.w_v(v).view(batch_size, -1, self.h, self.d_k).transpose(1, 2)\n",
        "\n",
        "        x, self.attention_scores = MultiHeadAttentionBlock.attention(query, key, value, mask, self.dropout)\n",
        "        x = x.transpose(1, 2).contiguous().view(batch_size, -1, self.d_model)\n",
        "        return self.w_o(x)"
      ],
      "metadata": {
        "id": "gSK2aBIcBm0Q"
      },
      "execution_count": null,
      "outputs": []
    },
    {
      "cell_type": "markdown",
      "source": [
        "### **Residual Connection**"
      ],
      "metadata": {
        "id": "NhnF3nPABpcG"
      }
    },
    {
      "cell_type": "code",
      "source": [
        "class ResidualConnection(nn.Module):\n",
        "    def __init__(self, dropout: float):\n",
        "        super(ResidualConnection, self).__init__()\n",
        "        self.dropout = nn.Dropout(dropout)\n",
        "        self.norm = LayerNormalization()\n",
        "\n",
        "    def forward(self, x, sublayer):\n",
        "        return x + self.dropout(sublayer(self.norm(x)))"
      ],
      "metadata": {
        "id": "_NxhQ1CHBsei"
      },
      "execution_count": null,
      "outputs": []
    },
    {
      "cell_type": "markdown",
      "source": [
        "### **Encoder Block**"
      ],
      "metadata": {
        "id": "h6y8CZYyCIEE"
      }
    },
    {
      "cell_type": "code",
      "source": [
        "class EncoderBlock(nn.Module):\n",
        "    def __init__(self, self_attention_block: MultiHeadAttentionBlock, feed_forward_block: FeedForwardBlock, dropout: float):\n",
        "        super(EncoderBlock, self).__init__()\n",
        "        self.self_attention_block = self_attention_block\n",
        "        self.feed_forward_block = feed_forward_block\n",
        "        self.residual_connections = nn.ModuleList([ResidualConnection(dropout) for _ in range(2)])\n",
        "\n",
        "    def forward(self, x, src_mask):\n",
        "        x = self.residual_connections[0](x, lambda x: self.self_attention_block(x, x, x, src_mask))\n",
        "        x = self.residual_connections[1](x, self.feed_forward_block)\n",
        "        return x\n",
        "\n",
        "class Encoder(nn.Module):\n",
        "    def __init__(self, N: int, d_model: int, h: int, d_ff: int, dropout: float):\n",
        "        super(Encoder, self).__init__()\n",
        "        self.layers = nn.ModuleList([\n",
        "            EncoderBlock(\n",
        "                MultiHeadAttentionBlock(d_model, h, dropout),\n",
        "                FeedForwardBlock(d_model, d_ff, dropout),\n",
        "                dropout\n",
        "            ) for _ in range(N)\n",
        "        ])\n",
        "        self.norm = LayerNormalization()\n",
        "\n",
        "    def forward(self, x, mask):\n",
        "        for layer in self.layers:\n",
        "            x = layer(x, mask)\n",
        "        return self.norm(x)"
      ],
      "metadata": {
        "id": "VLTyYCoVByMG"
      },
      "execution_count": null,
      "outputs": []
    },
    {
      "cell_type": "markdown",
      "source": [
        "### **Decoder Block**"
      ],
      "metadata": {
        "id": "Q80khnkSCEXV"
      }
    },
    {
      "cell_type": "code",
      "source": [
        "class DecoderBlock(nn.Module):\n",
        "    def __init__(self, self_attention_block: MultiHeadAttentionBlock, cross_attention_block: MultiHeadAttentionBlock, feed_forward_block: FeedForwardBlock, dropout):\n",
        "        super(DecoderBlock, self).__init__()\n",
        "        self.self_attention_block = self_attention_block\n",
        "        self.cross_attention_block = cross_attention_block\n",
        "        self.feed_forward_block = feed_forward_block\n",
        "        self.residual_connections = nn.ModuleList([ResidualConnection(dropout) for _ in range(3)])\n",
        "\n",
        "    def forward(self, x, encoder_output, src_mask, tgt_mask):\n",
        "        x = self.residual_connections[0](x, lambda x: self.self_attention_block(x, x, x, tgt_mask))\n",
        "        x = self.residual_connections[1](x, lambda x: self.cross_attention_block(x, encoder_output, encoder_output, src_mask))\n",
        "        x = self.residual_connections[2](x, self.feed_forward_block)\n",
        "        return x\n",
        "\n",
        "class Decoder(nn.Module):\n",
        "    def __init__(self, N: int, d_model: int, h: int, d_ff: int, dropout: float):\n",
        "        super(Decoder, self).__init__()\n",
        "        self.layers = nn.ModuleList([\n",
        "            DecoderBlock(\n",
        "                MultiHeadAttentionBlock(d_model, h, dropout),\n",
        "                MultiHeadAttentionBlock(d_model, h, dropout),\n",
        "                FeedForwardBlock(d_model, d_ff, dropout),\n",
        "                dropout\n",
        "            ) for _ in range(N)\n",
        "        ])\n",
        "        self.norm = LayerNormalization()\n",
        "\n",
        "    def forward(self, x, encoder_output, src_mask, tgt_mask):\n",
        "        for layer in self.layers:\n",
        "            x = layer(x, encoder_output, src_mask, tgt_mask)\n",
        "        return self.norm(x)"
      ],
      "metadata": {
        "id": "oxWhyI9MBzJw"
      },
      "execution_count": null,
      "outputs": []
    },
    {
      "cell_type": "markdown",
      "source": [
        "### **Projection Layer**"
      ],
      "metadata": {
        "id": "1WkKTWOcCste"
      }
    },
    {
      "cell_type": "code",
      "source": [
        "class ProjectionLayer(nn.Module):\n",
        "    def __init__(self, d_model, vocab_size):\n",
        "        super(ProjectionLayer, self).__init__()\n",
        "        self.proj = nn.Linear(d_model, vocab_size)\n",
        "\n",
        "    def forward(self, x):\n",
        "        return torch.log_softmax(self.proj(x), dim=-1)"
      ],
      "metadata": {
        "id": "Q_rTUAOCB4M6"
      },
      "execution_count": null,
      "outputs": []
    },
    {
      "cell_type": "markdown",
      "source": [
        "### **Transformer Model**"
      ],
      "metadata": {
        "id": "HMV1aZ4uB991"
      }
    },
    {
      "cell_type": "code",
      "source": [
        "class Transformer(nn.Module):\n",
        "    def __init__(self, encoder: Encoder, decoder: Decoder, src_embed: Embedding, tgt_embed: Embedding, src_pos: PositionalEncoding, tgt_pos: PositionalEncoding, projection_layer: ProjectionLayer) -> None:\n",
        "        super(Transformer, self).__init__()\n",
        "        self.encoder = encoder\n",
        "        self.decoder = decoder\n",
        "        self.src_embed = src_embed\n",
        "        self.tgt_embed = tgt_embed\n",
        "        self.src_pos = src_pos\n",
        "        self.tgt_pos = tgt_pos\n",
        "        self.projection_layer = projection_layer\n",
        "\n",
        "    def encode(self, src, src_mask):\n",
        "        src = self.src_embed(src)\n",
        "        src = self.src_pos(src)\n",
        "        return self.encoder(src, src_mask)\n",
        "\n",
        "    def decode(self, encoder_output, src_mask, tgt, tgt_mask):\n",
        "        tgt = self.tgt_embed(tgt)\n",
        "        tgt = self.tgt_pos(tgt)\n",
        "        return self.decoder(tgt, encoder_output, src_mask, tgt_mask)\n",
        "\n",
        "    def project(self, x):\n",
        "        return self.projection_layer(x)\n",
        "\n",
        "    @staticmethod\n",
        "    def build_transformer(src_vocab_size: int, tgt_vocab_size: int, src_seq_len: int, tgt_seq_len: int, d_model: int = 512, N: int = 6, h: int = 8, dropout: float = 0.1, d_ff: int = 2048):\n",
        "        src_embed = Embedding(d_model, src_vocab_size)\n",
        "        tgt_embed = Embedding(d_model, tgt_vocab_size)\n",
        "\n",
        "        src_pos = PositionalEncoding(src_seq_len, d_model)\n",
        "        tgt_pos = PositionalEncoding(tgt_seq_len, d_model)\n",
        "\n",
        "        encoder = Encoder(N, d_model, h, d_ff, dropout)\n",
        "        decoder = Decoder(N, d_model, h, d_ff, dropout)\n",
        "\n",
        "        projection_layer = ProjectionLayer(d_model, tgt_vocab_size)\n",
        "\n",
        "        transformer = Transformer(encoder, decoder, src_embed, tgt_embed, src_pos, tgt_pos, projection_layer)\n",
        "\n",
        "        for p in transformer.parameters():\n",
        "            if p.dim() > 1:\n",
        "                torch.nn.init.xavier_uniform_(p)\n",
        "\n",
        "        return transformer\n"
      ],
      "metadata": {
        "id": "Wt6JHcCRB6w3"
      },
      "execution_count": null,
      "outputs": []
    },
    {
      "cell_type": "markdown",
      "source": [
        "### **Dataset**"
      ],
      "metadata": {
        "id": "uzM0DPinDUgC"
      }
    },
    {
      "cell_type": "code",
      "source": [
        "from datasets import load_dataset\n",
        "\n",
        "ds = load_dataset(\"rajpurkar/squad\")"
      ],
      "metadata": {
        "id": "k2G4r3tZDWaX"
      },
      "execution_count": null,
      "outputs": []
    },
    {
      "cell_type": "code",
      "source": [
        "print(ds['train'][0])\n",
        "print(ds['validation'][0])"
      ],
      "metadata": {
        "id": "TJ0KwJwNDbtG"
      },
      "execution_count": null,
      "outputs": []
    },
    {
      "cell_type": "code",
      "source": [
        "from transformers import BertTokenizer\n",
        "tokenizer = BertTokenizer.from_pretrained('bert-base-uncased')"
      ],
      "metadata": {
        "id": "KKg1pfY0DiFP"
      },
      "execution_count": null,
      "outputs": []
    },
    {
      "cell_type": "code",
      "source": [
        "def preprocess_function(examples):\n",
        "    return tokenizer(\n",
        "        examples['question'],\n",
        "        examples['context'],\n",
        "        truncation=True,\n",
        "        padding='max_length',\n",
        "        max_length=512\n",
        "    )\n",
        "\n",
        "tokenized_datasets = ds.map(preprocess_function, batched=True)"
      ],
      "metadata": {
        "id": "GV9M2ohJDs_E"
      },
      "execution_count": null,
      "outputs": []
    },
    {
      "cell_type": "code",
      "source": [
        "def preprocess_function(examples):\n",
        "    questions = examples['question']\n",
        "    contexts = examples['context']\n",
        "    return tokenizer(questions, contexts, truncation=True, padding='max_length', max_length=512)\n",
        "\n",
        "tokenized_datasets = ds.map(preprocess_function, batched=True)"
      ],
      "metadata": {
        "id": "s64sJacODkpO"
      },
      "execution_count": null,
      "outputs": []
    },
    {
      "cell_type": "code",
      "source": [
        "from torch.utils.data import DataLoader\n",
        "\n",
        "def collate_fn(batch):\n",
        "    input_ids = torch.tensor([item['input_ids'] for item in batch])\n",
        "    attention_mask = torch.tensor([item['attention_mask'] for item in batch])\n",
        "    start_positions = torch.tensor([item['start_positions'] for item in batch])\n",
        "    end_positions = torch.tensor([item['end_positions'] for item in batch])\n",
        "\n",
        "    return {\n",
        "        'input_ids': input_ids,\n",
        "        'attention_mask': attention_mask,\n",
        "        'start_positions': start_positions,\n",
        "        'end_positions': end_positions,\n",
        "    }\n",
        "\n",
        "train_loader = DataLoader(\n",
        "    tokenized_datasets['train'],\n",
        "    batch_size=8,\n",
        "    shuffle=True,\n",
        "    collate_fn=collate_fn\n",
        ")\n",
        "val_loader = DataLoader(\n",
        "    tokenized_datasets['validation'],\n",
        "    batch_size=8,\n",
        "    shuffle=False,\n",
        "    collate_fn=collate_fn\n",
        ")"
      ],
      "metadata": {
        "id": "TC9PbjzfEndP"
      },
      "execution_count": null,
      "outputs": []
    },
    {
      "cell_type": "markdown",
      "source": [
        "### **Main**"
      ],
      "metadata": {
        "id": "Z2slf3WQCxNJ"
      }
    },
    {
      "cell_type": "code",
      "source": [
        "transformer = Transformer.build_transformer(\n",
        "    src_vocab_size=10000, tgt_vocab_size=10000,\n",
        "    src_seq_len=100, tgt_seq_len=100\n",
        ")"
      ],
      "metadata": {
        "id": "ye04b6VICoIZ"
      },
      "execution_count": null,
      "outputs": []
    },
    {
      "cell_type": "code",
      "source": [
        "device = torch.device('cuda' if torch.cuda.is_available() else 'cpu')\n",
        "transformer.to(device)"
      ],
      "metadata": {
        "colab": {
          "base_uri": "https://localhost:8080/"
        },
        "id": "cwtffwccC2Yw",
        "outputId": "92cc584b-5563-4b3d-f182-d19333424d0d"
      },
      "execution_count": null,
      "outputs": [
        {
          "output_type": "execute_result",
          "data": {
            "text/plain": [
              "Transformer(\n",
              "  (encoder): Encoder(\n",
              "    (layers): ModuleList(\n",
              "      (0-5): 6 x EncoderBlock(\n",
              "        (self_attention_block): MultiHeadAttentionBlock(\n",
              "          (w_q): Linear(in_features=512, out_features=512, bias=True)\n",
              "          (w_k): Linear(in_features=512, out_features=512, bias=True)\n",
              "          (w_v): Linear(in_features=512, out_features=512, bias=True)\n",
              "          (w_o): Linear(in_features=512, out_features=512, bias=True)\n",
              "          (dropout): Dropout(p=0.1, inplace=False)\n",
              "        )\n",
              "        (feed_forward_block): FeedForwardBlock(\n",
              "          (linear_1): Linear(in_features=512, out_features=2048, bias=True)\n",
              "          (dropout): Dropout(p=0.1, inplace=False)\n",
              "          (linear_2): Linear(in_features=2048, out_features=512, bias=True)\n",
              "        )\n",
              "        (residual_connections): ModuleList(\n",
              "          (0-1): 2 x ResidualConnection(\n",
              "            (dropout): Dropout(p=0.1, inplace=False)\n",
              "            (norm): LayerNormalization()\n",
              "          )\n",
              "        )\n",
              "      )\n",
              "    )\n",
              "    (norm): LayerNormalization()\n",
              "  )\n",
              "  (decoder): Decoder(\n",
              "    (layers): ModuleList(\n",
              "      (0-5): 6 x DecoderBlock(\n",
              "        (self_attention_block): MultiHeadAttentionBlock(\n",
              "          (w_q): Linear(in_features=512, out_features=512, bias=True)\n",
              "          (w_k): Linear(in_features=512, out_features=512, bias=True)\n",
              "          (w_v): Linear(in_features=512, out_features=512, bias=True)\n",
              "          (w_o): Linear(in_features=512, out_features=512, bias=True)\n",
              "          (dropout): Dropout(p=0.1, inplace=False)\n",
              "        )\n",
              "        (cross_attention_block): MultiHeadAttentionBlock(\n",
              "          (w_q): Linear(in_features=512, out_features=512, bias=True)\n",
              "          (w_k): Linear(in_features=512, out_features=512, bias=True)\n",
              "          (w_v): Linear(in_features=512, out_features=512, bias=True)\n",
              "          (w_o): Linear(in_features=512, out_features=512, bias=True)\n",
              "          (dropout): Dropout(p=0.1, inplace=False)\n",
              "        )\n",
              "        (feed_forward_block): FeedForwardBlock(\n",
              "          (linear_1): Linear(in_features=512, out_features=2048, bias=True)\n",
              "          (dropout): Dropout(p=0.1, inplace=False)\n",
              "          (linear_2): Linear(in_features=2048, out_features=512, bias=True)\n",
              "        )\n",
              "        (residual_connections): ModuleList(\n",
              "          (0-2): 3 x ResidualConnection(\n",
              "            (dropout): Dropout(p=0.1, inplace=False)\n",
              "            (norm): LayerNormalization()\n",
              "          )\n",
              "        )\n",
              "      )\n",
              "    )\n",
              "    (norm): LayerNormalization()\n",
              "  )\n",
              "  (src_embed): Embedding(\n",
              "    (embed): Embedding(512, 10000)\n",
              "  )\n",
              "  (tgt_embed): Embedding(\n",
              "    (embed): Embedding(512, 10000)\n",
              "  )\n",
              "  (src_pos): PositionalEncoding()\n",
              "  (tgt_pos): PositionalEncoding()\n",
              "  (projection_layer): ProjectionLayer(\n",
              "    (proj): Linear(in_features=512, out_features=10000, bias=True)\n",
              "  )\n",
              ")"
            ]
          },
          "metadata": {},
          "execution_count": 19
        }
      ]
    },
    {
      "cell_type": "code",
      "source": [
        "optimizer = torch.optim.Adam(transformer.parameters(), lr=0.0001)\n",
        "criterion = nn.CrossEntropyLoss()"
      ],
      "metadata": {
        "id": "BnL2HqzjC52g"
      },
      "execution_count": null,
      "outputs": []
    },
    {
      "cell_type": "code",
      "source": [
        "def train_epoch(model, dataloader, optimizer, criterion, device):\n",
        "    model.train()\n",
        "    total_loss = 0\n",
        "    for batch in dataloader:\n",
        "        input_ids = batch['input_ids'].to(device)\n",
        "        attention_mask = batch['attention_mask'].to(device)\n",
        "        start_positions = batch['start_positions'].to(device)\n",
        "        end_positions = batch['end_positions'].to(device)\n",
        "\n",
        "        optimizer.zero_grad()\n",
        "\n",
        "        # Forward pass\n",
        "        encoder_output = model.encode(input_ids, attention_mask)\n",
        "        decoder_output = model.decode(encoder_output, attention_mask, input_ids, attention_mask)\n",
        "        logits = model.project(decoder_output)\n",
        "\n",
        "        # Compute loss\n",
        "        start_logits, end_logits = logits.split(1, dim=-1)\n",
        "        start_logits = start_logits.squeeze(-1)\n",
        "        end_logits = end_logits.squeeze(-1)\n",
        "\n",
        "        loss_start = criterion(start_logits, start_positions)\n",
        "        loss_end = criterion(end_logits, end_positions)\n",
        "        loss = (loss_start + loss_end) / 2\n",
        "\n",
        "        # Backward pass\n",
        "        loss.backward()\n",
        "        optimizer.step()\n",
        "\n",
        "        total_loss += loss.item()\n",
        "\n",
        "    avg_loss = total_loss / len(dataloader)\n",
        "    print(f\"Training Loss: {avg_loss:.4f}\")"
      ],
      "metadata": {
        "id": "w-0XAOTGC-kQ"
      },
      "execution_count": null,
      "outputs": []
    },
    {
      "cell_type": "code",
      "source": [
        "def evaluate(model, dataloader, criterion, device):\n",
        "    model.eval()\n",
        "    total_loss = 0\n",
        "    with torch.no_grad():\n",
        "        for batch in dataloader:\n",
        "            input_ids = batch['input_ids'].to(device)\n",
        "            attention_mask = batch['attention_mask'].to(device)\n",
        "            start_positions = batch['start_positions'].to(device)\n",
        "            end_positions = batch['end_positions'].to(device)\n",
        "\n",
        "            # Forward pass\n",
        "            encoder_output = model.encode(input_ids, attention_mask)\n",
        "            decoder_output = model.decode(encoder_output, attention_mask, input_ids, attention_mask)\n",
        "            logits = model.project(decoder_output)\n",
        "\n",
        "            # Compute loss\n",
        "            start_logits, end_logits = logits.split(1, dim=-1)\n",
        "            start_logits = start_logits.squeeze(-1)\n",
        "            end_logits = end_logits.squeeze(-1)\n",
        "\n",
        "            loss_start = criterion(start_logits, start_positions)\n",
        "            loss_end = criterion(end_logits, end_positions)\n",
        "            loss = (loss_start + loss_end) / 2\n",
        "\n",
        "            total_loss += loss.item()\n",
        "\n",
        "    avg_loss = total_loss / len(dataloader)\n",
        "    print(f\"Validation Loss: {avg_loss:.4f}\")"
      ],
      "metadata": {
        "id": "XvRqKtAxGOyr"
      },
      "execution_count": null,
      "outputs": []
    },
    {
      "cell_type": "code",
      "source": [
        "num_epochs = 5\n",
        "\n",
        "for epoch in range(num_epochs):\n",
        "    print(f\"Epoch {epoch+1}/{num_epochs}\")\n",
        "    train_epoch(transformer, train_loader, optimizer, criterion, device)\n",
        "    evaluate(transformer, val_loader, criterion, device)"
      ],
      "metadata": {
        "id": "NnVeOC6QGaFB"
      },
      "execution_count": null,
      "outputs": []
    },
    {
      "cell_type": "code",
      "source": [
        "torch.save(transformer.state_dict(), 'transformer_model.pth')"
      ],
      "metadata": {
        "id": "nLAWigziGcwN"
      },
      "execution_count": null,
      "outputs": []
    },
    {
      "cell_type": "code",
      "source": [
        "transformer.load_state_dict(torch.load('transformer_model.pth'))\n",
        "transformer.eval()"
      ],
      "metadata": {
        "id": "scRfNx8OGfEj"
      },
      "execution_count": null,
      "outputs": []
    }
  ]
}