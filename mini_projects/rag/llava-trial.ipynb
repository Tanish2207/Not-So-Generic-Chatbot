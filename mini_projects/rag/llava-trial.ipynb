{
 "cells": [
  {
   "cell_type": "code",
   "execution_count": 118,
   "metadata": {},
   "outputs": [],
   "source": [
    "from groq import Groq\n",
    "import base64\n",
    "from IPython.display import Image\n",
    "import os\n",
    "from dotenv import load_dotenv, dotenv_values"
   ]
  },
  {
   "cell_type": "code",
   "execution_count": 122,
   "metadata": {},
   "outputs": [],
   "source": [
    "load_dotenv()\n",
    "GROQ_API_KEY = os.getenv(\"GROQ_API_KEY\")\n",
    "client = Groq(api_key=GROQ_API_KEY)"
   ]
  },
  {
   "cell_type": "code",
   "execution_count": 123,
   "metadata": {},
   "outputs": [],
   "source": [
    "llava_model = \"llava-v1.5-7b-4096-preview\"\n",
    "llama_model = \"llama3-groq-8b-8192-tool-use-preview\""
   ]
  },
  {
   "cell_type": "code",
   "execution_count": 125,
   "metadata": {},
   "outputs": [],
   "source": [
    "def encode_to_64(image_path):\n",
    "    with open(image_path, 'rb') as f:\n",
    "        return base64.b64encode(f.read()).decode('utf-8')"
   ]
  },
  {
   "cell_type": "code",
   "execution_count": 126,
   "metadata": {},
   "outputs": [],
   "source": [
    "def image_to_text(client, model, base64_image, prompt):\n",
    "    chat_completion = client.chat.completions.create(\n",
    "        messages=[\n",
    "            {\n",
    "                \"role\": \"user\",\n",
    "                \"content\": [\n",
    "                    {\"type\": \"text\", \"text\": prompt},\n",
    "                    {\n",
    "                        \"type\": \"image_url\",\n",
    "                        \"image_url\": {\n",
    "                            \"url\": f\"data:image/jpeg;base64,{base64_image}\",\n",
    "                        },\n",
    "                    },\n",
    "                ],\n",
    "            }\n",
    "        ],\n",
    "        model=model\n",
    "    )\n",
    "    return chat_completion.choices[0].message.content"
   ]
  },
  {
   "cell_type": "code",
   "execution_count": 127,
   "metadata": {},
   "outputs": [],
   "source": [
    "def further_query(client, image_description, user_prompt):\n",
    "    chat_completion = client.chat.completions.create(\n",
    "        messages=[\n",
    "            {\n",
    "                \"role\": \"system\",\n",
    "                \"content\": \"\"\"\n",
    "                    You are an image description chatbot.\n",
    "                    A short description of an image will be provided to you.\n",
    "                    Answer the questions asked, based on that description.\n",
    "                    If the description does not provide any context regarding the query asked, say that 'I could not extract this detail from the image'.\n",
    "                \"\"\"\n",
    "            },\n",
    "            {\n",
    "                \"role\": \"user\",\n",
    "                \"content\": f\"{image_description}\\n\\n{user_prompt}\"\n",
    "            }\n",
    "        ],\n",
    "        model=llama_model\n",
    "    )\n",
    "    return chat_completion.choices[0].message.content"
   ]
  },
  {
   "cell_type": "code",
   "execution_count": 132,
   "metadata": {},
   "outputs": [
    {
     "name": "stdout",
     "output_type": "stream",
     "text": [
      "Based on the image description, it appears that the group of students are engaged in a discussion or presentation related to coding, possibly with the use of technology. One individual is holding up a book, which might be used to illustrate a point or explain a concept. The atmosphere seems lively, with students both sitting and standing, indicating active participation and engagement.\n"
     ]
    }
   ],
   "source": [
    "def final_func(client, image_path, model, user_prompt):\n",
    "    base64_image = encode_to_64(image_path)\n",
    "    prompt = \"Describe the image\"\n",
    "    image_description = image_to_text(client, model, base64_image, prompt)\n",
    "    return further_query(client, image_description, user_prompt)\n",
    "\n",
    "\n",
    "\n",
    "my_finalprompt = \"What do you think the people in the image are doing?\"\n",
    "print(final_func(client, \"images/image6.jpg\", llava_model, my_finalprompt))"
   ]
  },
  {
   "cell_type": "markdown",
   "metadata": {},
   "source": []
  }
 ],
 "metadata": {
  "kernelspec": {
   "display_name": "Python 3",
   "language": "python",
   "name": "python3"
  },
  "language_info": {
   "codemirror_mode": {
    "name": "ipython",
    "version": 3
   },
   "file_extension": ".py",
   "mimetype": "text/x-python",
   "name": "python",
   "nbconvert_exporter": "python",
   "pygments_lexer": "ipython3",
   "version": "3.12.6"
  }
 },
 "nbformat": 4,
 "nbformat_minor": 2
}
