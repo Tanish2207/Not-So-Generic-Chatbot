{
  "nbformat": 4,
  "nbformat_minor": 0,
  "metadata": {
    "colab": {
      "provenance": []
    },
    "kernelspec": {
      "name": "python3",
      "display_name": "Python 3"
    },
    "language_info": {
      "name": "python"
    }
  },
  "cells": [
    {
      "cell_type": "code",
      "execution_count": 1,
      "metadata": {
        "colab": {
          "base_uri": "https://localhost:8080/"
        },
        "id": "JBT9cz46K-rZ",
        "outputId": "39e6d769-8378-46d6-8d5e-fcd2d40f219e"
      },
      "outputs": [
        {
          "output_type": "stream",
          "name": "stdout",
          "text": [
            "2.3.1+cu121\n"
          ]
        }
      ],
      "source": [
        "# !nvidia-smi\n",
        "import torch\n",
        "print(torch.__version__)"
      ]
    },
    {
      "cell_type": "markdown",
      "source": [
        "# Tensors\n",
        "## Scalar Vector Tensor Matrix\n"
      ],
      "metadata": {
        "id": "0EzWTk7ULk2m"
      }
    },
    {
      "cell_type": "code",
      "source": [
        "scalar = torch.tensor(7)\n",
        "scalar\n",
        "scalar.ndim\n",
        "scalar.item()"
      ],
      "metadata": {
        "colab": {
          "base_uri": "https://localhost:8080/"
        },
        "id": "hfrZQL6aNNLi",
        "outputId": "2bac93b1-2b07-4f13-9e79-5b9840b6ee1c"
      },
      "execution_count": 2,
      "outputs": [
        {
          "output_type": "execute_result",
          "data": {
            "text/plain": [
              "7"
            ]
          },
          "metadata": {},
          "execution_count": 2
        }
      ]
    },
    {
      "cell_type": "code",
      "source": [
        "vector = torch.tensor([7, 4, 24])\n",
        "vector\n",
        "print(vector.ndim) # *******************ndim => no of pairs of opening and closing brackets*******************\n",
        "print(vector.shape)"
      ],
      "metadata": {
        "colab": {
          "base_uri": "https://localhost:8080/"
        },
        "id": "xKCD-7x6DTZA",
        "outputId": "2633df4f-0492-40ca-d58f-3367ec251247"
      },
      "execution_count": 3,
      "outputs": [
        {
          "output_type": "stream",
          "name": "stdout",
          "text": [
            "1\n",
            "torch.Size([3])\n"
          ]
        }
      ]
    },
    {
      "cell_type": "code",
      "source": [
        "MATRIX = torch.tensor([[5,6], [2,4], [234, 234]])\n",
        "print(MATRIX)\n",
        "print(MATRIX.ndim)\n",
        "print(MATRIX.shape)\n",
        "print(MATRIX[0])"
      ],
      "metadata": {
        "colab": {
          "base_uri": "https://localhost:8080/"
        },
        "id": "qRIfIL3uDZaH",
        "outputId": "e2be9762-ac19-465a-b4d1-84f6848e96b3"
      },
      "execution_count": 4,
      "outputs": [
        {
          "output_type": "stream",
          "name": "stdout",
          "text": [
            "tensor([[  5,   6],\n",
            "        [  2,   4],\n",
            "        [234, 234]])\n",
            "2\n",
            "torch.Size([3, 2])\n",
            "tensor([5, 6])\n"
          ]
        }
      ]
    },
    {
      "cell_type": "code",
      "source": [
        "TENSOR = torch.tensor([[[4,5,6],\n",
        "                        [7,8,9]]])\n",
        "print(TENSOR)\n",
        "print(TENSOR.ndim)\n",
        "print(TENSOR.shape)\n",
        "print(TENSOR[0])"
      ],
      "metadata": {
        "colab": {
          "base_uri": "https://localhost:8080/"
        },
        "id": "BB8VjxVGD18e",
        "outputId": "88949c25-964e-489f-8914-69aecbb39b81"
      },
      "execution_count": 5,
      "outputs": [
        {
          "output_type": "stream",
          "name": "stdout",
          "text": [
            "tensor([[[4, 5, 6],\n",
            "         [7, 8, 9]]])\n",
            "3\n",
            "torch.Size([1, 2, 3])\n",
            "tensor([[4, 5, 6],\n",
            "        [7, 8, 9]])\n"
          ]
        }
      ]
    },
    {
      "cell_type": "code",
      "source": [
        "#Usually MATRIX and TENSOR in uppercase and scalar vector lowercase"
      ],
      "metadata": {
        "id": "u7dDBecyKc6i"
      },
      "execution_count": 6,
      "outputs": []
    },
    {
      "cell_type": "markdown",
      "source": [
        "### Random Tensors"
      ],
      "metadata": {
        "id": "cS6PRf9MK2r5"
      }
    },
    {
      "cell_type": "code",
      "source": [
        "torch.rand(1, 3, 4) # torch.rand(size)"
      ],
      "metadata": {
        "colab": {
          "base_uri": "https://localhost:8080/"
        },
        "id": "c1P-YcGaK8CX",
        "outputId": "5d68c462-5545-4e24-ce9b-b248ab08cf1c"
      },
      "execution_count": 7,
      "outputs": [
        {
          "output_type": "execute_result",
          "data": {
            "text/plain": [
              "tensor([[[0.6392, 0.3130, 0.7768, 0.1842],\n",
              "         [0.0307, 0.4358, 0.3119, 0.1697],\n",
              "         [0.1845, 0.6841, 0.6555, 0.6181]]])"
            ]
          },
          "metadata": {},
          "execution_count": 7
        }
      ]
    },
    {
      "cell_type": "code",
      "source": [
        "random_image_size_tensor = torch.rand(224, 224,3) # height, width, color channels\n",
        "random_image_size_tensor.shape, random_image_size_tensor.ndim"
      ],
      "metadata": {
        "colab": {
          "base_uri": "https://localhost:8080/"
        },
        "id": "nc7yNPWvL7ac",
        "outputId": "140fe8c6-02c2-47f2-8ba4-e71eba7d6500"
      },
      "execution_count": 8,
      "outputs": [
        {
          "output_type": "execute_result",
          "data": {
            "text/plain": [
              "(torch.Size([224, 224, 3]), 3)"
            ]
          },
          "metadata": {},
          "execution_count": 8
        }
      ]
    },
    {
      "cell_type": "markdown",
      "source": [
        "### Zeros and ones tensor"
      ],
      "metadata": {
        "id": "4SUW3B1IMpot"
      }
    },
    {
      "cell_type": "code",
      "source": [
        "zeros = torch.zeros(size=(1, 2))\n",
        "zeros\n",
        "ones = torch.ones(1, 2)\n",
        "ones"
      ],
      "metadata": {
        "colab": {
          "base_uri": "https://localhost:8080/"
        },
        "id": "xuJvw5ESMzDy",
        "outputId": "1d3ac089-45f8-4ac4-be1a-f72c0f130c06"
      },
      "execution_count": 9,
      "outputs": [
        {
          "output_type": "execute_result",
          "data": {
            "text/plain": [
              "tensor([[1., 1.]])"
            ]
          },
          "metadata": {},
          "execution_count": 9
        }
      ]
    },
    {
      "cell_type": "markdown",
      "source": [
        "### Creating Range of tensors"
      ],
      "metadata": {
        "id": "o5BzytYINX8A"
      }
    },
    {
      "cell_type": "code",
      "source": [
        "x = torch.arange(start=0, end=40, step=4)\n",
        "x"
      ],
      "metadata": {
        "colab": {
          "base_uri": "https://localhost:8080/"
        },
        "id": "eT7xM_2lNasb",
        "outputId": "4456b23a-f1f8-4300-f6ce-1492d69ddd01"
      },
      "execution_count": 10,
      "outputs": [
        {
          "output_type": "execute_result",
          "data": {
            "text/plain": [
              "tensor([ 0,  4,  8, 12, 16, 20, 24, 28, 32, 36])"
            ]
          },
          "metadata": {},
          "execution_count": 10
        }
      ]
    },
    {
      "cell_type": "markdown",
      "source": [
        "### Creating tensors like"
      ],
      "metadata": {
        "id": "w81PJLCMOD-j"
      }
    },
    {
      "cell_type": "code",
      "source": [
        "like = torch.zeros_like(input=x)\n",
        "like"
      ],
      "metadata": {
        "colab": {
          "base_uri": "https://localhost:8080/"
        },
        "id": "FY0WZejCOFzD",
        "outputId": "4b9195f1-8fa9-4e85-e103-3745b361b3d3"
      },
      "execution_count": 11,
      "outputs": [
        {
          "output_type": "execute_result",
          "data": {
            "text/plain": [
              "tensor([0, 0, 0, 0, 0, 0, 0, 0, 0, 0])"
            ]
          },
          "metadata": {},
          "execution_count": 11
        }
      ]
    },
    {
      "cell_type": "markdown",
      "source": [
        "### Tensor datatypes"
      ],
      "metadata": {
        "id": "5kFtnS_GP05p"
      }
    },
    {
      "cell_type": "code",
      "source": [
        "my_tensor = torch.tensor([3.0, 5.0, 7.5],\n",
        "                         dtype=None,\n",
        "                         device=None)\n",
        "print(my_tensor.dtype)\n",
        "my_tensor_float_64 = my_tensor.type(torch.float64)\n",
        "print(my_tensor_float_64.dtype)\n",
        "my_tensor * my_tensor_float_64"
      ],
      "metadata": {
        "colab": {
          "base_uri": "https://localhost:8080/"
        },
        "id": "iu6cxgzlP27m",
        "outputId": "c04e017b-09f7-4210-dbfc-3ad0fba48661"
      },
      "execution_count": 12,
      "outputs": [
        {
          "output_type": "stream",
          "name": "stdout",
          "text": [
            "torch.float32\n",
            "torch.float64\n"
          ]
        },
        {
          "output_type": "execute_result",
          "data": {
            "text/plain": [
              "tensor([ 9.0000, 25.0000, 56.2500], dtype=torch.float64)"
            ]
          },
          "metadata": {},
          "execution_count": 12
        }
      ]
    },
    {
      "cell_type": "markdown",
      "source": [
        "### 3 major error in tensors\n",
        "\n",
        "1. Tensors not right datatype - use tensor.dtype to check\n",
        "2. Tensors not right shape - use tensor.shape\n",
        "3. Tensors not on the right device - tensor.device"
      ],
      "metadata": {
        "id": "iJAYRzY0UKwU"
      }
    },
    {
      "cell_type": "markdown",
      "source": [
        "### Tensor operations"
      ],
      "metadata": {
        "id": "ThfrfmZsfa6J"
      }
    },
    {
      "cell_type": "code",
      "source": [
        "tensor = torch.tensor([1,2,3])\n",
        "tensor += 10\n",
        "tensor\n",
        "torch.mul(tensor, 3) # element-wise multiplication\n",
        "tensor = torch.tensor([1,2,3])\n",
        "print(\"tensor * tensor = \", tensor*tensor)\n",
        "\n",
        "print(torch.matmul(tensor, tensor)) # matrix mult - dot product\n",
        "\n",
        "tensor.T # -> transpose of tensor"
      ],
      "metadata": {
        "colab": {
          "base_uri": "https://localhost:8080/"
        },
        "id": "mbccgroxfcwM",
        "outputId": "0b7fdf4d-808b-4f5f-9dec-1bc1f3089617"
      },
      "execution_count": 13,
      "outputs": [
        {
          "output_type": "stream",
          "name": "stdout",
          "text": [
            "tensor * tensor =  tensor([1, 4, 9])\n",
            "tensor(14)\n"
          ]
        },
        {
          "output_type": "stream",
          "name": "stderr",
          "text": [
            "<ipython-input-13-e083dd61e1be>:10: UserWarning: The use of `x.T` on tensors of dimension other than 2 to reverse their shape is deprecated and it will throw an error in a future release. Consider `x.mT` to transpose batches of matrices or `x.permute(*torch.arange(x.ndim - 1, -1, -1))` to reverse the dimensions of a tensor. (Triggered internally at ../aten/src/ATen/native/TensorShape.cpp:3675.)\n",
            "  tensor.T # -> transpose of tensor\n"
          ]
        },
        {
          "output_type": "execute_result",
          "data": {
            "text/plain": [
              "tensor([1, 2, 3])"
            ]
          },
          "metadata": {},
          "execution_count": 13
        }
      ]
    },
    {
      "cell_type": "markdown",
      "source": [
        "# Tensor aggregation (find mean max, sum, avg etc)"
      ],
      "metadata": {
        "id": "RsyQUXAKH6XT"
      }
    },
    {
      "cell_type": "code",
      "source": [
        "x = torch.arange(4, 8, 12)\n",
        "print(x, x.dtype)\n",
        "torch.min(x), x.min()\n",
        "torch.mean(x.type(torch.float32))"
      ],
      "metadata": {
        "colab": {
          "base_uri": "https://localhost:8080/"
        },
        "id": "DV9ucCB_H4rg",
        "outputId": "84c21f98-0e90-4d00-bea2-28cc1c0245e8"
      },
      "execution_count": 14,
      "outputs": [
        {
          "output_type": "stream",
          "name": "stdout",
          "text": [
            "tensor([4]) torch.int64\n"
          ]
        },
        {
          "output_type": "execute_result",
          "data": {
            "text/plain": [
              "tensor(4.)"
            ]
          },
          "metadata": {},
          "execution_count": 14
        }
      ]
    },
    {
      "cell_type": "markdown",
      "source": [
        "### finding position of min"
      ],
      "metadata": {
        "id": "xOmYkXUnJFN1"
      }
    },
    {
      "cell_type": "code",
      "source": [
        "x = torch.arange(5)*2\n",
        "x.argmin()\n",
        "print(x.argmax())\n",
        "print(x)"
      ],
      "metadata": {
        "colab": {
          "base_uri": "https://localhost:8080/"
        },
        "id": "-5J8q87mIxUI",
        "outputId": "6a4aeacd-41be-4fed-be51-9d9916e54180"
      },
      "execution_count": 15,
      "outputs": [
        {
          "output_type": "stream",
          "name": "stdout",
          "text": [
            "tensor(4)\n",
            "tensor([0, 2, 4, 6, 8])\n"
          ]
        }
      ]
    },
    {
      "cell_type": "markdown",
      "source": [
        "### Reshaping, stacking, squeezing tensor\n",
        "\n",
        "1. Reshaping\n",
        "2. view\n",
        "3. stacking - combine multiple tensors on top of each other or sidebyside.\n",
        "4. squueze - removes all 1 dimensions froma a tensor\n"
      ],
      "metadata": {
        "id": "Hk41crdwN048"
      }
    },
    {
      "cell_type": "code",
      "source": [
        "x = torch.arange(1, 9)\n",
        "print(x, x.shape)\n",
        "x_reshaped = x.reshape(1, 4, 2)\n",
        "x_reshaped, x_reshaped.shape"
      ],
      "metadata": {
        "colab": {
          "base_uri": "https://localhost:8080/"
        },
        "id": "8gKnhPOBN5kp",
        "outputId": "ca90f3ee-3d36-484c-8235-23000af850f1"
      },
      "execution_count": 16,
      "outputs": [
        {
          "output_type": "stream",
          "name": "stdout",
          "text": [
            "tensor([1, 2, 3, 4, 5, 6, 7, 8]) torch.Size([8])\n"
          ]
        },
        {
          "output_type": "execute_result",
          "data": {
            "text/plain": [
              "(tensor([[[1, 2],\n",
              "          [3, 4],\n",
              "          [5, 6],\n",
              "          [7, 8]]]),\n",
              " torch.Size([1, 4, 2]))"
            ]
          },
          "metadata": {},
          "execution_count": 16
        }
      ]
    },
    {
      "cell_type": "code",
      "source": [
        "# Changing the view\n",
        "z = x.view(8, 1)\n",
        "# Changing z changes x bcz view of a tensor shares the same memory as the original tensor\n",
        "z[2] = 20\n",
        "print(x, z)"
      ],
      "metadata": {
        "colab": {
          "base_uri": "https://localhost:8080/"
        },
        "id": "o_8f3zGkP2fJ",
        "outputId": "539f0fa8-2446-4dec-eeab-abeedb5342b5"
      },
      "execution_count": 17,
      "outputs": [
        {
          "output_type": "stream",
          "name": "stdout",
          "text": [
            "tensor([ 1,  2, 20,  4,  5,  6,  7,  8]) tensor([[ 1],\n",
            "        [ 2],\n",
            "        [20],\n",
            "        [ 4],\n",
            "        [ 5],\n",
            "        [ 6],\n",
            "        [ 7],\n",
            "        [ 8]])\n"
          ]
        }
      ]
    },
    {
      "cell_type": "code",
      "source": [
        "x_stacked = torch.stack([x,x,x,x,x], dim=1)\n",
        "# default dim=0 => vertically\n",
        "x_stacked"
      ],
      "metadata": {
        "colab": {
          "base_uri": "https://localhost:8080/"
        },
        "id": "Zm5zut90QtMX",
        "outputId": "81e6e8dc-150e-4348-8d0e-641b3574a52e"
      },
      "execution_count": 18,
      "outputs": [
        {
          "output_type": "execute_result",
          "data": {
            "text/plain": [
              "tensor([[ 1,  1,  1,  1,  1],\n",
              "        [ 2,  2,  2,  2,  2],\n",
              "        [20, 20, 20, 20, 20],\n",
              "        [ 4,  4,  4,  4,  4],\n",
              "        [ 5,  5,  5,  5,  5],\n",
              "        [ 6,  6,  6,  6,  6],\n",
              "        [ 7,  7,  7,  7,  7],\n",
              "        [ 8,  8,  8,  8,  8]])"
            ]
          },
          "metadata": {},
          "execution_count": 18
        }
      ]
    },
    {
      "cell_type": "code",
      "source": [
        "x = torch.zeros(2, 1, 2, 3)\n",
        "print(x)\n",
        "x = torch.squeeze(x)\n",
        "print(x, x.shape)\n",
        "# Returns a tensor with all specified dimensions of input of size 1 removed."
      ],
      "metadata": {
        "colab": {
          "base_uri": "https://localhost:8080/"
        },
        "id": "sVhuxtXIRcIG",
        "outputId": "21d8db2c-ee8a-4bb2-fe39-36c4bc39b76c"
      },
      "execution_count": 19,
      "outputs": [
        {
          "output_type": "stream",
          "name": "stdout",
          "text": [
            "tensor([[[[0., 0., 0.],\n",
            "          [0., 0., 0.]]],\n",
            "\n",
            "\n",
            "        [[[0., 0., 0.],\n",
            "          [0., 0., 0.]]]])\n",
            "tensor([[[0., 0., 0.],\n",
            "         [0., 0., 0.]],\n",
            "\n",
            "        [[0., 0., 0.],\n",
            "         [0., 0., 0.]]]) torch.Size([2, 2, 3])\n"
          ]
        }
      ]
    },
    {
      "cell_type": "code",
      "source": [
        "print(x, x.shape)\n",
        "x = torch.unsqueeze(x, 1)\n",
        "print(x, x.shape)"
      ],
      "metadata": {
        "colab": {
          "base_uri": "https://localhost:8080/"
        },
        "id": "H46brPmwTesT",
        "outputId": "7f244b06-11fd-449c-ec9e-da3db648ab90"
      },
      "execution_count": 20,
      "outputs": [
        {
          "output_type": "stream",
          "name": "stdout",
          "text": [
            "tensor([[[0., 0., 0.],\n",
            "         [0., 0., 0.]],\n",
            "\n",
            "        [[0., 0., 0.],\n",
            "         [0., 0., 0.]]]) torch.Size([2, 2, 3])\n",
            "tensor([[[[0., 0., 0.],\n",
            "          [0., 0., 0.]]],\n",
            "\n",
            "\n",
            "        [[[0., 0., 0.],\n",
            "          [0., 0., 0.]]]]) torch.Size([2, 1, 2, 3])\n"
          ]
        }
      ]
    },
    {
      "cell_type": "code",
      "source": [
        "x = torch.randn(1, 2, 4)\n",
        "print(x, x.shape)\n",
        "x_permute = torch.permute(x, (2, 0, 1))\n",
        "print(x_permute, x_permute.shape)  # 1, 2, 4 => 4, 2, 1"
      ],
      "metadata": {
        "colab": {
          "base_uri": "https://localhost:8080/"
        },
        "id": "Kfuwf85RVD7T",
        "outputId": "9136295f-5a27-4267-8ca5-94b53910a72b"
      },
      "execution_count": 21,
      "outputs": [
        {
          "output_type": "stream",
          "name": "stdout",
          "text": [
            "tensor([[[ 0.4758, -0.2378, -0.2830, -2.0748],\n",
            "         [ 0.0615, -0.6599, -0.8609, -0.0458]]]) torch.Size([1, 2, 4])\n",
            "tensor([[[ 0.4758,  0.0615]],\n",
            "\n",
            "        [[-0.2378, -0.6599]],\n",
            "\n",
            "        [[-0.2830, -0.8609]],\n",
            "\n",
            "        [[-2.0748, -0.0458]]]) torch.Size([4, 1, 2])\n"
          ]
        }
      ]
    },
    {
      "cell_type": "markdown",
      "source": [
        "### Indexing"
      ],
      "metadata": {
        "id": "qnLmo3O-WmsY"
      }
    },
    {
      "cell_type": "code",
      "source": [
        "x = torch.arange(1, 10)\n",
        "x = x.reshape(1, 3, 3)\n",
        "print(x, x.shape)\n",
        "print(x[0][0])\n",
        "print(x[:, :, 2]) # ********IMPORTANT**********"
      ],
      "metadata": {
        "colab": {
          "base_uri": "https://localhost:8080/"
        },
        "id": "KtJK9ZIhWpBW",
        "outputId": "0ed09542-5199-4cff-8212-71282688f18b"
      },
      "execution_count": 22,
      "outputs": [
        {
          "output_type": "stream",
          "name": "stdout",
          "text": [
            "tensor([[[1, 2, 3],\n",
            "         [4, 5, 6],\n",
            "         [7, 8, 9]]]) torch.Size([1, 3, 3])\n",
            "tensor([1, 2, 3])\n",
            "tensor([[3, 6, 9]])\n"
          ]
        }
      ]
    },
    {
      "cell_type": "markdown",
      "source": [
        "### PyTorch Tensors and NumPy"
      ],
      "metadata": {
        "id": "vaqPSaFSX0XO"
      }
    },
    {
      "cell_type": "code",
      "source": [
        "import numpy as np\n",
        "arr = np.arange(1., 8.)\n",
        "arr.dtype\n",
        "tensor = torch.from_numpy(arr)\n",
        "arr.dtype, tensor.dtype"
      ],
      "metadata": {
        "colab": {
          "base_uri": "https://localhost:8080/"
        },
        "id": "Gd7RDNxAYQqi",
        "outputId": "aca44020-f613-4858-b97f-0eccd8e017e2"
      },
      "execution_count": 23,
      "outputs": [
        {
          "output_type": "execute_result",
          "data": {
            "text/plain": [
              "(dtype('float64'), torch.float64)"
            ]
          },
          "metadata": {},
          "execution_count": 23
        }
      ]
    },
    {
      "cell_type": "code",
      "source": [
        "my_numpy = x.numpy()"
      ],
      "metadata": {
        "id": "cAjLdU9dZMNO"
      },
      "execution_count": 24,
      "outputs": []
    },
    {
      "cell_type": "markdown",
      "source": [
        "### Reproducibility\n"
      ],
      "metadata": {
        "id": "iFgx51nG-aRn"
      }
    },
    {
      "cell_type": "code",
      "source": [
        "RANDOM_SEED = 42\n",
        "\n",
        "torch.manual_seed(RANDOM_SEED)\n",
        "random_tensor_A = torch.rand(3, 4)\n",
        "\n",
        "\n",
        "# torch.manual_seed(RANDOM_SEED)\n",
        "random_tensor_B = torch.rand(3, 4)\n",
        "\n",
        "# torch.manual _seed() is applied only for a next consecutive block of code in colab\n",
        "\n",
        "print(random_tensor_A)\n",
        "print(random_tensor_B)\n",
        "print(random_tensor_A == random_tensor_B)"
      ],
      "metadata": {
        "colab": {
          "base_uri": "https://localhost:8080/"
        },
        "id": "z041TzMa_Cav",
        "outputId": "449467ce-e3f1-4516-8a84-704e59f0c0ce"
      },
      "execution_count": 25,
      "outputs": [
        {
          "output_type": "stream",
          "name": "stdout",
          "text": [
            "tensor([[0.8823, 0.9150, 0.3829, 0.9593],\n",
            "        [0.3904, 0.6009, 0.2566, 0.7936],\n",
            "        [0.9408, 0.1332, 0.9346, 0.5936]])\n",
            "tensor([[0.8694, 0.5677, 0.7411, 0.4294],\n",
            "        [0.8854, 0.5739, 0.2666, 0.6274],\n",
            "        [0.2696, 0.4414, 0.2969, 0.8317]])\n",
            "tensor([[False, False, False, False],\n",
            "        [False, False, False, False],\n",
            "        [False, False, False, False]])\n"
          ]
        }
      ]
    },
    {
      "cell_type": "code",
      "source": [
        "### Device Agnostic Code\n",
        "# Check for GPU access with pytorch\n",
        "torch.cuda.is_available()\n",
        "torch.cuda.device_count()\n",
        "\n",
        "device = \"cuda\" if torch.cuda.is_available() else \"cpu\"\n",
        "device"
      ],
      "metadata": {
        "colab": {
          "base_uri": "https://localhost:8080/",
          "height": 35
        },
        "id": "SxryGyioBLWm",
        "outputId": "01f77e50-12df-4f10-e272-00aa3be3bd0a"
      },
      "execution_count": 26,
      "outputs": [
        {
          "output_type": "execute_result",
          "data": {
            "text/plain": [
              "'cpu'"
            ],
            "application/vnd.google.colaboratory.intrinsic+json": {
              "type": "string"
            }
          },
          "metadata": {},
          "execution_count": 26
        }
      ]
    },
    {
      "cell_type": "code",
      "source": [
        "# move tensor to GPU (if avail)\n",
        "tensor_on_gpu = x.to(device)\n",
        "tensor_on_gpu\n",
        "# move tensor back to CPU from GPU\n",
        "tensor_back_on_cpu = tensor_on_gpu.cpu()\n",
        "tensor_back_on_cpu"
      ],
      "metadata": {
        "colab": {
          "base_uri": "https://localhost:8080/"
        },
        "id": "tLaL5F-vVSSO",
        "outputId": "bada9b95-33d6-464f-fc26-a9374b6e7dfe"
      },
      "execution_count": 27,
      "outputs": [
        {
          "output_type": "execute_result",
          "data": {
            "text/plain": [
              "tensor([[[1, 2, 3],\n",
              "         [4, 5, 6],\n",
              "         [7, 8, 9]]])"
            ]
          },
          "metadata": {},
          "execution_count": 27
        }
      ]
    }
  ]
}